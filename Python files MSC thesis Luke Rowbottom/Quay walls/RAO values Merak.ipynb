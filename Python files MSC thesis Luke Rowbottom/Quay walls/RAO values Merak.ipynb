{
 "cells": [
  {
   "cell_type": "markdown",
   "metadata": {},
   "source": [
    "# RAO values to simulate ship motions (Port of Merak)"
   ]
  },
  {
   "cell_type": "code",
   "execution_count": 4,
   "metadata": {},
   "outputs": [],
   "source": [
    "import numpy as np\n",
    "import scipy.stats\n",
    "import matplotlib.pyplot as plt\n",
    "import pandas as pd\n",
    "plt.style.use(\"default\")"
   ]
  },
  {
   "cell_type": "markdown",
   "metadata": {},
   "source": [
    "## Input parameters (ship and wave conditions)"
   ]
  },
  {
   "cell_type": "code",
   "execution_count": 5,
   "metadata": {},
   "outputs": [],
   "source": [
    "g = 9.82 # [m/s^2] gravitation\n",
    "Hs = 1 # [m] Significant wave height\n",
    "T = 7.2 # [s] Wave duration\n",
    "d = 11 # [m] Water depth ship channel\n",
    "\n",
    "Bship = 19.6 # [m] Width ship\n",
    "Lship = 128 # [m] length ship\n",
    "Hship = 8.4 # [m] Height ship\n",
    "Tship = 5.8 # [m] Draught ship\n",
    "m = 81000 # [kN] Mass ship\n",
    "GMt = 3.9 # [m] Geometric height ship\n",
    "\n",
    "Aship_cross = Bship*Tship # [m^2] Surface area cross section\n",
    "Aship_lat = Tship * Lship # [m^2] Surface area lateral cross section\n",
    "Aship_bot = Lship * Bship # [m^2] Surface area bottom ship\n",
    "Vwet = Tship*Bship*Lship # [m^2] Wetted volume\n",
    "rho = 10.00 # [kN/m^3] Volumetric weight water\n",
    "\n",
    "omega = (2*np.pi)/T # [rad/s] Wave frequency\n",
    "Lwave = (g*T**2)/(2*np.pi) # [m] Wave length\n",
    "x_vert = omega*((Bship/(2*g))**0.5)\n",
    "k = 2*np.pi/Lwave # wave number\n"
   ]
  },
  {
   "cell_type": "markdown",
   "metadata": {},
   "source": [
    "## RAO: Sway"
   ]
  },
  {
   "cell_type": "code",
   "execution_count": 6,
   "metadata": {},
   "outputs": [
    {
     "name": "stdout",
     "output_type": "stream",
     "text": [
      "Added mass (A): 0.0\n",
      "Viscous damping (B): 72829.40216105033\n",
      "Stiffness (C): 0\n",
      "\n",
      "RAO_sway: 0.8031350763204197 m \\ m\n"
     ]
    }
   ],
   "source": [
    "#added mass\n",
    "a_sway = 0*rho*Aship_cross*Lship\n",
    "\n",
    "#damping factor\n",
    "labda22 = rho*Aship_cross*np.sqrt(2*g/Bship)*0.5\n",
    "b_sway = labda22*Lship\n",
    "\n",
    "#stiffness factor\n",
    "c_sway = 0\n",
    "\n",
    "#Force\n",
    "phiw = (g)/(omega**2)*np.exp(k*d)\n",
    "pw = rho*omega**2*(phiw)*Hs*np.exp(-omega*(0.25*T))\n",
    "F = pw * Aship_lat\n",
    "\n",
    "print('Added mass (A):', a_sway*m) \n",
    "print('Viscous damping (B):', b_sway) \n",
    "print('Stiffness (C):', c_sway) \n",
    "print('')\n",
    "X_sway = np.sqrt(F**2 / ((-(omega)**2*(m+a_sway)+c_sway)**2+(omega*b_sway)**2))\n",
    "print('RAO_sway:', 2*X_sway, 'm \\ m')"
   ]
  },
  {
   "cell_type": "markdown",
   "metadata": {},
   "source": [
    "## RAO: Heave"
   ]
  },
  {
   "cell_type": "code",
   "execution_count": 7,
   "metadata": {},
   "outputs": [
    {
     "name": "stdout",
     "output_type": "stream",
     "text": [
      "Added mass (A): 8839756800.0\n",
      "Viscous damping (B): 43697.641296630194\n",
      "Stiffness (C): 246364.16000000003\n",
      "\n",
      "RAO_heave: 1.1078137650742128 m \\ m\n"
     ]
    }
   ],
   "source": [
    "#added mass\n",
    "a_heave = 0.75*rho*Aship_cross*Lship\n",
    "\n",
    "#damping factor\n",
    "x_vert = omega*((Bship/(2*g))**0.5)\n",
    "labda33 = rho*Aship_cross*np.sqrt(2*g/Bship)*0.3\n",
    "b_heave = labda33*Lship\n",
    "\n",
    "#stiffness factor\n",
    "c_heave = rho*g*Aship_bot\n",
    "\n",
    "#Force\n",
    "phiw = (g)/(omega**2)*np.exp(k*d)\n",
    "pw = rho*omega**2*(phiw)*Hs*np.exp(-omega*(0.25*T))\n",
    "F = pw * Aship_bot\n",
    "\n",
    "print('Added mass (A):', a_heave*m) \n",
    "print('Viscous damping (B):', b_heave) \n",
    "print('Stiffness (C):', c_heave) \n",
    "X_heave = np.sqrt(F**2 / ((-(omega)**2*(m+a_heave)+c_heave)**2+(omega*b_heave)**2))\n",
    "print('')\n",
    "print('RAO_heave:', X_heave, 'm \\ m')"
   ]
  },
  {
   "cell_type": "markdown",
   "metadata": {},
   "source": [
    "## RAO: Roll"
   ]
  },
  {
   "cell_type": "code",
   "execution_count": 8,
   "metadata": {},
   "outputs": [
    {
     "name": "stdout",
     "output_type": "stream",
     "text": [
      "6.155756113860696\n",
      "Added mass (A): 5893171200.000001\n",
      "Viscous damping (B): 13989071.56709455\n",
      "Stiffness (C): 5572757.2992\n",
      "RAO_surge: 0.323071403342001 degrees / m\n"
     ]
    }
   ],
   "source": [
    "#added mass\n",
    "a_roll = 0.5*rho*Aship_cross*Lship\n",
    "\n",
    "#damping factor\n",
    "x_vert = omega/((Bship/(2*g))**0.5)\n",
    "labda44 = rho*Aship_cross*Bship**2*np.sqrt(2*g/Bship)*0.25\n",
    "b_roll = labda44*Lship\n",
    "\n",
    "#stiffness factor\n",
    "c_roll = rho*g*Vwet*GMt\n",
    "\n",
    "#Force\n",
    "phiw = (g)/(omega**2)*np.exp(k*d)\n",
    "pw = rho*omega**2*(phiw)*Hs*np.exp(-omega*(0.25*T))\n",
    "F = pw * Aship_lat\n",
    "\n",
    "Ixx = (1/12)*m*(Bship**2+Hship**2)\n",
    "rxx = np.sqrt(Ixx/m)\n",
    "print(rxx)\n",
    "\n",
    "print('Added mass (A):', a_roll*m) \n",
    "print('Viscous damping (B):', b_roll) \n",
    "print('Stiffness (C):', c_roll) \n",
    "\n",
    "\n",
    "X_roll = np.sqrt(F**2 / ((-(omega)**2*(rxx**2*m+a_roll)+c_roll)**2+(omega*b_roll)**2))\n",
    "print('RAO_surge:', 2*X_roll*(360/(2*np.pi)) , 'degrees / m')"
   ]
  }
 ],
 "metadata": {
  "kernelspec": {
   "display_name": "Python 3",
   "language": "python",
   "name": "python3"
  },
  "language_info": {
   "codemirror_mode": {
    "name": "ipython",
    "version": 3
   },
   "file_extension": ".py",
   "mimetype": "text/x-python",
   "name": "python",
   "nbconvert_exporter": "python",
   "pygments_lexer": "ipython3",
   "version": "3.8.3"
  }
 },
 "nbformat": 4,
 "nbformat_minor": 4
}
